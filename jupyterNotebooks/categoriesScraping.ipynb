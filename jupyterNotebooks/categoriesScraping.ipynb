{
 "cells": [
  {
   "cell_type": "markdown",
   "metadata": {},
   "source": [
    "# Scraping des catégories pour obtenir les infomations sur les \"Shops\""
   ]
  },
  {
   "cell_type": "code",
   "execution_count": 1,
   "metadata": {
    "collapsed": true
   },
   "outputs": [],
   "source": [
    "import requests\n",
    "import xml.etree.ElementTree as ET\n",
    "from lxml import html\n",
    "import lxml"
   ]
  },
  {
   "cell_type": "markdown",
   "metadata": {},
   "source": [
    "### Test : get the total number of subpages"
   ]
  },
  {
   "cell_type": "code",
   "execution_count": null,
   "metadata": {},
   "outputs": [],
   "source": [
    "url = 'https://www.etsy.com/fr/c/accessories.hats_and_caps.formal_hats'\n",
    "params = {'locationQuery': 3017382}\n",
    "response = requests.get(url, params=params)\n",
    "content = response.text.encode(\"utf-8\")\n",
    "content = lxml.html.document_fromstring(content)\n",
    "# get page numbers in data-page attribute\n",
    "elements = content.xpath('//nav[contains(@class,\"pagination\")]/a/@data-page')\n",
    "elements\n",
    "#max_pages = 1\n",
    "if len(elements) > 0:\n",
    "    # convert page numbers to integers\n",
    "    elements_int = [int(i) for i in elements]\n",
    "    max_pages = max(elements_int)\n",
    "# vérifier sur : https://www.etsy.com/fr/c/accessories.hats_and_caps.formal_hats?explicit=1&locationQuery=3017382\n",
    "max_pages"
   ]
  },
  {
   "cell_type": "markdown",
   "metadata": {
    "collapsed": true
   },
   "source": [
    "### Test : Get Shops"
   ]
  },
  {
   "cell_type": "code",
   "execution_count": null,
   "metadata": {},
   "outputs": [],
   "source": [
    "ele = content.xpath('//p[@class = \"text-gray-lighter text-body-smaller display-inline-block mr-xs-1\"]/text()')\n",
    "ele"
   ]
  },
  {
   "cell_type": "code",
   "execution_count": null,
   "metadata": {
    "collapsed": true
   },
   "outputs": [],
   "source": []
  }
 ],
 "metadata": {
  "kernelspec": {
   "display_name": "Python 3",
   "language": "python",
   "name": "python3"
  },
  "language_info": {
   "codemirror_mode": {
    "name": "ipython",
    "version": 3
   },
   "file_extension": ".py",
   "mimetype": "text/x-python",
   "name": "python",
   "nbconvert_exporter": "python",
   "pygments_lexer": "ipython3",
   "version": "3.6.1"
  }
 },
 "nbformat": 4,
 "nbformat_minor": 2
}
