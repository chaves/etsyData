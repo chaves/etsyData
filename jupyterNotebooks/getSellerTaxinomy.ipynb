{
 "cells": [
  {
   "cell_type": "markdown",
   "metadata": {},
   "source": [
    "# Récupérer les taxinomie d'Etsy"
   ]
  },
  {
   "cell_type": "code",
   "execution_count": 1,
   "metadata": {
    "collapsed": true
   },
   "outputs": [],
   "source": [
    "from classes.EtsyApi import EtsyApi\n",
    "import pandas as pd"
   ]
  },
  {
   "cell_type": "code",
   "execution_count": 2,
   "metadata": {
    "collapsed": true,
    "scrolled": true
   },
   "outputs": [],
   "source": [
    "etsy = EtsyApi()"
   ]
  },
  {
   "cell_type": "markdown",
   "metadata": {},
   "source": [
    "## On récupère la taxinomie Etsy en Json"
   ]
  },
  {
   "cell_type": "code",
   "execution_count": 3,
   "metadata": {
    "collapsed": true
   },
   "outputs": [],
   "source": [
    "categories = etsy.get_seller_taxonomy()"
   ]
  },
  {
   "cell_type": "code",
   "execution_count": 4,
   "metadata": {},
   "outputs": [
    {
     "data": {
      "text/plain": [
       "15"
      ]
     },
     "execution_count": 4,
     "metadata": {},
     "output_type": "execute_result"
    }
   ],
   "source": [
    "# On vérifie le nombre de catégories de rang 1\n",
    "len(categories)"
   ]
  },
  {
   "cell_type": "markdown",
   "metadata": {},
   "source": [
    "## On crée le dataframe avec les données que l'on souhaite garder"
   ]
  },
  {
   "cell_type": "code",
   "execution_count": 5,
   "metadata": {
    "collapsed": true
   },
   "outputs": [],
   "source": [
    "def make_data_frame(categories):\n",
    "    df = pd.DataFrame()\n",
    "    # categories = etsy.get_seller_taxonomy()\n",
    "    for l1 in categories:\n",
    "        l1_id = l1['category_id']\n",
    "        l1_cat_name = l1['name']\n",
    "        l1_path = l1['path']\n",
    "\n",
    "        for l2 in l1['children']:\n",
    "            l2_id = str(l2['id'])\n",
    "            l2_name = l2['name']\n",
    "            l2_path = l2['path']\n",
    "\n",
    "            for l3 in l2['children']:\n",
    "                l3_id = str(l3['id'])\n",
    "                l3_name = l3['name']\n",
    "                l3_path = l3['path']\n",
    "                \n",
    "                df = df.append({\n",
    "                    'l1_id': l1_id,\n",
    "                    'l1_cat_name': l1_cat_name,\n",
    "                    'l1_path': l1_path,\n",
    "                    'l2_id': l2_id,\n",
    "                    'l2_name': l2_name,\n",
    "                    'l2_path': l2_path,\n",
    "                    'l3_id': l3_id,\n",
    "                    'l3_name': l3_name,\n",
    "                    'l3_path': l3_path\n",
    "                                }, ignore_index=True)\n",
    "    return df"
   ]
  },
  {
   "cell_type": "code",
   "execution_count": 9,
   "metadata": {},
   "outputs": [],
   "source": [
    "#df = pd.DataFrame(categories)\n",
    "#df.head(5)"
   ]
  },
  {
   "cell_type": "code",
   "execution_count": 10,
   "metadata": {
    "collapsed": true
   },
   "outputs": [],
   "source": [
    "# Sauvegarde au format Excel\n",
    "#df.to_excel('../_outputs/seller_taxonomy_{}.xlsx'.format(etsy.get_date_now()), index=False, header=True)"
   ]
  },
  {
   "cell_type": "code",
   "execution_count": null,
   "metadata": {
    "collapsed": true
   },
   "outputs": [],
   "source": []
  }
 ],
 "metadata": {
  "kernelspec": {
   "display_name": "Python 3",
   "language": "python",
   "name": "python3"
  },
  "language_info": {
   "codemirror_mode": {
    "name": "ipython",
    "version": 3
   },
   "file_extension": ".py",
   "mimetype": "text/x-python",
   "name": "python",
   "nbconvert_exporter": "python",
   "pygments_lexer": "ipython3",
   "version": "3.6.2"
  }
 },
 "nbformat": 4,
 "nbformat_minor": 2
}
