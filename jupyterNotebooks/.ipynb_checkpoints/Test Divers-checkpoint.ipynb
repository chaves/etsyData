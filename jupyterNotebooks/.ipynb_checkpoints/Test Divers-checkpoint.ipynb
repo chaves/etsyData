{
 "cells": [
  {
   "cell_type": "code",
   "execution_count": 1,
   "metadata": {
    "collapsed": true
   },
   "outputs": [],
   "source": [
    "import pandas as pd\n",
    "import glob"
   ]
  },
  {
   "cell_type": "code",
   "execution_count": 2,
   "metadata": {},
   "outputs": [
    {
     "data": {
      "text/html": [
       "<div>\n",
       "<style>\n",
       "    .dataframe thead tr:only-child th {\n",
       "        text-align: right;\n",
       "    }\n",
       "\n",
       "    .dataframe thead th {\n",
       "        text-align: left;\n",
       "    }\n",
       "\n",
       "    .dataframe tbody tr th {\n",
       "        vertical-align: top;\n",
       "    }\n",
       "</style>\n",
       "<table border=\"1\" class=\"dataframe\">\n",
       "  <thead>\n",
       "    <tr style=\"text-align: right;\">\n",
       "      <th></th>\n",
       "      <th>l3_path</th>\n",
       "      <th>status</th>\n",
       "      <th>pages_total</th>\n",
       "      <th>shops</th>\n",
       "    </tr>\n",
       "  </thead>\n",
       "  <tbody>\n",
       "    <tr>\n",
       "      <th>0</th>\n",
       "      <td>accessories.baby_accessories.baby_carriers_and...</td>\n",
       "      <td>200</td>\n",
       "      <td>50</td>\n",
       "      <td>OK</td>\n",
       "    </tr>\n",
       "    <tr>\n",
       "      <th>1</th>\n",
       "      <td>accessories.baby_accessories.childrens_photo_p...</td>\n",
       "      <td>200</td>\n",
       "      <td>7</td>\n",
       "      <td>OK</td>\n",
       "    </tr>\n",
       "    <tr>\n",
       "      <th>2</th>\n",
       "      <td>accessories.belts_and_suspenders.belt_buckles</td>\n",
       "      <td>200</td>\n",
       "      <td>18</td>\n",
       "      <td>OK</td>\n",
       "    </tr>\n",
       "    <tr>\n",
       "      <th>3</th>\n",
       "      <td>accessories.belts_and_suspenders.belts</td>\n",
       "      <td>200</td>\n",
       "      <td>28</td>\n",
       "      <td>OK</td>\n",
       "    </tr>\n",
       "    <tr>\n",
       "      <th>4</th>\n",
       "      <td>accessories.belts_and_suspenders.suspenders</td>\n",
       "      <td>200</td>\n",
       "      <td>4</td>\n",
       "      <td>OK</td>\n",
       "    </tr>\n",
       "  </tbody>\n",
       "</table>\n",
       "</div>"
      ],
      "text/plain": [
       "                                             l3_path  status  pages_total  \\\n",
       "0  accessories.baby_accessories.baby_carriers_and...     200           50   \n",
       "1  accessories.baby_accessories.childrens_photo_p...     200            7   \n",
       "2      accessories.belts_and_suspenders.belt_buckles     200           18   \n",
       "3             accessories.belts_and_suspenders.belts     200           28   \n",
       "4        accessories.belts_and_suspenders.suspenders     200            4   \n",
       "\n",
       "  shops  \n",
       "0    OK  \n",
       "1    OK  \n",
       "2    OK  \n",
       "3    OK  \n",
       "4    OK  "
      ]
     },
     "execution_count": 2,
     "metadata": {},
     "output_type": "execute_result"
    }
   ],
   "source": [
    "df = pd.read_excel('../_outputs/categories_control.xlsx')\n",
    "df = df[df['status'] == 200]\n",
    "df.head(5)"
   ]
  },
  {
   "cell_type": "code",
   "execution_count": 3,
   "metadata": {},
   "outputs": [],
   "source": [
    "names_source = list(df.l3_path)"
   ]
  },
  {
   "cell_type": "code",
   "execution_count": 4,
   "metadata": {},
   "outputs": [],
   "source": [
    "file_list = glob.glob(\"../_outputs/shops_products/*.json\")\n",
    "def clean_file_paths(name):\n",
    "    return name.replace('../_outputs/shops_products/', '').replace('.json', '')\n",
    "names_output = [clean_file_paths(file) for file in file_list]"
   ]
  },
  {
   "cell_type": "code",
   "execution_count": 5,
   "metadata": {},
   "outputs": [],
   "source": [
    "# vérifie que l'on a bien tous les fichiers\n",
    "# OK si n'imprime rien\n",
    "for name_s in names_source:\n",
    "    if name_s not in names_output:\n",
    "        print(name_s)"
   ]
  },
  {
   "cell_type": "code",
   "execution_count": null,
   "metadata": {
    "collapsed": true
   },
   "outputs": [],
   "source": []
  }
 ],
 "metadata": {
  "kernelspec": {
   "display_name": "Python 3",
   "language": "python",
   "name": "python3"
  },
  "language_info": {
   "codemirror_mode": {
    "name": "ipython",
    "version": 3
   },
   "file_extension": ".py",
   "mimetype": "text/x-python",
   "name": "python",
   "nbconvert_exporter": "python",
   "pygments_lexer": "ipython3",
   "version": "3.6.1"
  }
 },
 "nbformat": 4,
 "nbformat_minor": 2
}
