{
 "cells": [
  {
   "cell_type": "code",
   "execution_count": 2,
   "metadata": {
    "collapsed": true
   },
   "outputs": [],
   "source": [
    "%matplotlib inline\n",
    "import glob\n",
    "import json\n",
    "import pandas as pd\n",
    "import matplotlib.pyplot as plt\n",
    "import seaborn"
   ]
  },
  {
   "cell_type": "code",
   "execution_count": 2,
   "metadata": {
    "collapsed": true
   },
   "outputs": [],
   "source": [
    "head = []\n",
    "file_list = glob.glob(\"../_outputs/shops_products/*.json\")\n",
    "with open(\"../_outputs/shops_products_all.json\", \"w\") as outfile:\n",
    "    for f in file_list:\n",
    "        with open(f, 'rb') as infile:\n",
    "            file_data = json.load(infile)\n",
    "            head += file_data\n",
    "    json.dump(head, outfile)"
   ]
  },
  {
   "cell_type": "code",
   "execution_count": 3,
   "metadata": {},
   "outputs": [
    {
     "data": {
      "text/html": [
       "<div>\n",
       "<style>\n",
       "    .dataframe thead tr:only-child th {\n",
       "        text-align: right;\n",
       "    }\n",
       "\n",
       "    .dataframe thead th {\n",
       "        text-align: left;\n",
       "    }\n",
       "\n",
       "    .dataframe tbody tr th {\n",
       "        vertical-align: top;\n",
       "    }\n",
       "</style>\n",
       "<table border=\"1\" class=\"dataframe\">\n",
       "  <thead>\n",
       "    <tr style=\"text-align: right;\">\n",
       "      <th></th>\n",
       "      <th>0</th>\n",
       "      <th>1</th>\n",
       "    </tr>\n",
       "  </thead>\n",
       "  <tbody>\n",
       "    <tr>\n",
       "      <th>0</th>\n",
       "      <td>534732628</td>\n",
       "      <td>VeroniceBoutique</td>\n",
       "    </tr>\n",
       "    <tr>\n",
       "      <th>1</th>\n",
       "      <td>533082592</td>\n",
       "      <td>Brindenat</td>\n",
       "    </tr>\n",
       "  </tbody>\n",
       "</table>\n",
       "</div>"
      ],
      "text/plain": [
       "           0                 1\n",
       "0  534732628  VeroniceBoutique\n",
       "1  533082592         Brindenat"
      ]
     },
     "execution_count": 3,
     "metadata": {},
     "output_type": "execute_result"
    }
   ],
   "source": [
    "df = pd.read_json(\"../_outputs/shops_products_merged.json\", lines=False)\n",
    "df.head(2)"
   ]
  },
  {
   "cell_type": "code",
   "execution_count": 4,
   "metadata": {
    "collapsed": true
   },
   "outputs": [],
   "source": [
    "df.rename(columns = {0 : 'products', 1 : 'shops'}, inplace=True)"
   ]
  },
  {
   "cell_type": "code",
   "execution_count": 5,
   "metadata": {},
   "outputs": [
    {
     "data": {
      "text/html": [
       "<div>\n",
       "<style>\n",
       "    .dataframe thead tr:only-child th {\n",
       "        text-align: right;\n",
       "    }\n",
       "\n",
       "    .dataframe thead th {\n",
       "        text-align: left;\n",
       "    }\n",
       "\n",
       "    .dataframe tbody tr th {\n",
       "        vertical-align: top;\n",
       "    }\n",
       "</style>\n",
       "<table border=\"1\" class=\"dataframe\">\n",
       "  <thead>\n",
       "    <tr style=\"text-align: right;\">\n",
       "      <th></th>\n",
       "      <th>products</th>\n",
       "      <th>shops</th>\n",
       "    </tr>\n",
       "  </thead>\n",
       "  <tbody>\n",
       "    <tr>\n",
       "      <th>0</th>\n",
       "      <td>534732628</td>\n",
       "      <td>VeroniceBoutique</td>\n",
       "    </tr>\n",
       "    <tr>\n",
       "      <th>1</th>\n",
       "      <td>533082592</td>\n",
       "      <td>Brindenat</td>\n",
       "    </tr>\n",
       "  </tbody>\n",
       "</table>\n",
       "</div>"
      ],
      "text/plain": [
       "    products             shops\n",
       "0  534732628  VeroniceBoutique\n",
       "1  533082592         Brindenat"
      ]
     },
     "execution_count": 5,
     "metadata": {},
     "output_type": "execute_result"
    }
   ],
   "source": [
    "df.head(2)"
   ]
  },
  {
   "cell_type": "code",
   "execution_count": 6,
   "metadata": {},
   "outputs": [
    {
     "name": "stdout",
     "output_type": "stream",
     "text": [
      "<class 'pandas.core.frame.DataFrame'>\n",
      "Int64Index: 578377 entries, 0 to 578376\n",
      "Data columns (total 2 columns):\n",
      "products    578377 non-null int64\n",
      "shops       578377 non-null object\n",
      "dtypes: int64(1), object(1)\n",
      "memory usage: 13.2+ MB\n"
     ]
    }
   ],
   "source": [
    "df.info()"
   ]
  },
  {
   "cell_type": "code",
   "execution_count": 7,
   "metadata": {},
   "outputs": [
    {
     "data": {
      "text/plain": [
       "<matplotlib.axes._subplots.AxesSubplot at 0x129495748>"
      ]
     },
     "execution_count": 7,
     "metadata": {},
     "output_type": "execute_result"
    },
    {
     "data": {
      "image/png": "[encoded data removed]",
      "text/plain": [
       "<matplotlib.figure.Figure at 0x12a8818d0>"
      ]
     },
     "metadata": {},
     "output_type": "display_data"
    }
   ],
   "source": [
    "# nombre de produits par shop\n",
    "df.shops.value_counts().plot(ylim=[0,400])"
   ]
  },
  {
   "cell_type": "code",
   "execution_count": 8,
   "metadata": {
    "collapsed": true
   },
   "outputs": [],
   "source": [
    "products_couts = df.shops.value_counts()"
   ]
  },
  {
   "cell_type": "code",
   "execution_count": 12,
   "metadata": {},
   "outputs": [
    {
     "data": {
      "text/plain": [
       "count    14537.000000\n",
       "mean        39.786545\n",
       "std         90.361260\n",
       "min          1.000000\n",
       "25%          5.000000\n",
       "50%         15.000000\n",
       "75%         41.000000\n",
       "max       3635.000000\n",
       "Name: shops, dtype: float64"
      ]
     },
     "execution_count": 12,
     "metadata": {},
     "output_type": "execute_result"
    }
   ],
   "source": [
    "products_couts.describe()"
   ]
  },
  {
   "cell_type": "code",
   "execution_count": null,
   "metadata": {
    "collapsed": true
   },
   "outputs": [],
   "source": [
    "p_unique"
   ]
  },
  {
   "cell_type": "code",
   "execution_count": 17,
   "metadata": {},
   "outputs": [
    {
     "data": {
      "text/plain": [
       "EnglishShop             3635\n",
       "artbynataera            3501\n",
       "VintageWallGraphics     1883\n",
       "1001coquesliberty       1514\n",
       "LEVRIERSMARTYRS         1317\n",
       "AtelierByS              1286\n",
       "AnnabeCreationsParis    1247\n",
       "BEATAREN                1165\n",
       "Sherocreations          1163\n",
       "CreerpourVousFrance     1160\n",
       "CreastelleParty         1120\n",
       "LeBonheurDuJour         1080\n",
       "EdenCreationsFR         1075\n",
       "acanthusjd              1071\n",
       "MarcadeVintagePrints    1030\n",
       "toutchaud               1024\n",
       "annacreationannie       1013\n",
       "elizajaynecreations     1004\n",
       "BoutiqueDudeBougies      992\n",
       "petitstitous             982\n",
       "penumbra51               979\n",
       "creationlizalou          940\n",
       "LeTempsEstVenu           924\n",
       "lescreasdemarie46        918\n",
       "Fabricamania             880\n",
       "IMORISHOP                851\n",
       "CardBubbleCreations      849\n",
       "TresorsdAlsace           844\n",
       "EveilOriental            826\n",
       "PerlesetCultures         826\n",
       "                        ... \n",
       "montresorselicreatio     635\n",
       "vintagefrenchdream       634\n",
       "JulyJulyandJuly          625\n",
       "LaCoutureByTitia         622\n",
       "NUAGEshop                620\n",
       "LaBoutiqueDesFees        616\n",
       "LaBelleEpoqueDeco        613\n",
       "BlandineCreations        611\n",
       "PHOTOFORWALL             609\n",
       "Lesmerveillesdefaby      609\n",
       "CpourEllesCreations      602\n",
       "personnalizmoi           600\n",
       "MinicreationsG           598\n",
       "lateliersecondevie       592\n",
       "POUPOUPIDOUX             586\n",
       "ClementineCreaFR         585\n",
       "creationspourbebes       580\n",
       "attachemasucette         578\n",
       "Birdycoconut             570\n",
       "Ladecodesab              567\n",
       "OneRoyalArt              566\n",
       "DiaryOfLove              539\n",
       "mandydreamscreations     518\n",
       "LoisirsCreaFanfan        515\n",
       "LovelyFrance             507\n",
       "Coussinpouralliances     500\n",
       "danslairdutemps          500\n",
       "Stelycrea                495\n",
       "LaporcelainedeMaud       494\n",
       "lacageadeco              492\n",
       "Name: shops, Length: 80, dtype: int64"
      ]
     },
     "execution_count": 17,
     "metadata": {},
     "output_type": "execute_result"
    }
   ],
   "source": [
    "products_couts.head(80)"
   ]
  },
  {
   "cell_type": "code",
   "execution_count": 74,
   "metadata": {},
   "outputs": [
    {
     "data": {
      "text/plain": [
       "14537"
      ]
     },
     "execution_count": 74,
     "metadata": {},
     "output_type": "execute_result"
    }
   ],
   "source": [
    "# Nombre de shops\n",
    "len(df.shops.unique())"
   ]
  },
  {
   "cell_type": "code",
   "execution_count": 75,
   "metadata": {},
   "outputs": [
    {
     "data": {
      "text/plain": [
       "443186"
      ]
     },
     "execution_count": 75,
     "metadata": {},
     "output_type": "execute_result"
    }
   ],
   "source": [
    "# Nombre de produits\n",
    "len(df.products.unique())"
   ]
  },
  {
   "cell_type": "code",
   "execution_count": 76,
   "metadata": {
    "collapsed": true
   },
   "outputs": [],
   "source": [
    "dfShops = pd.read_excel('../_outputs/categories_control.xlsx')"
   ]
  },
  {
   "cell_type": "code",
   "execution_count": 77,
   "metadata": {},
   "outputs": [
    {
     "data": {
      "text/plain": [
       "12721"
      ]
     },
     "execution_count": 77,
     "metadata": {},
     "output_type": "execute_result"
    }
   ],
   "source": [
    "dfShops.pages_total.sum()"
   ]
  },
  {
   "cell_type": "code",
   "execution_count": null,
   "metadata": {
    "collapsed": true
   },
   "outputs": [],
   "source": [
    "width = 1.0     # gives histogram aspect to the bar diagram\n"
   ]
  },
  {
   "cell_type": "code",
   "execution_count": null,
   "metadata": {
    "collapsed": true
   },
   "outputs": [],
   "source": []
  }
 ],
 "metadata": {
  "kernelspec": {
   "display_name": "Python 3",
   "language": "python",
   "name": "python3"
  },
  "language_info": {
   "codemirror_mode": {
    "name": "ipython",
    "version": 3
   },
   "file_extension": ".py",
   "mimetype": "text/x-python",
   "name": "python",
   "nbconvert_exporter": "python",
   "pygments_lexer": "ipython3",
   "version": "3.6.1"
  }
 },
 "nbformat": 4,
 "nbformat_minor": 2
}
